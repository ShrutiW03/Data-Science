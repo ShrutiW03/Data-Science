{
 "cells": [
  {
   "cell_type": "markdown",
   "id": "79401f76-10c0-4932-b4ad-3f10da0ec7fd",
   "metadata": {},
   "source": [
    "### Data Science Tools and Ecosystem"
   ]
  },
  {
   "cell_type": "markdown",
   "id": "e456c970-5085-4c08-ba7e-bdde02531b44",
   "metadata": {},
   "source": [
    "in this notebook , Data science tools and ecosystem are summarized"
   ]
  },
  {
   "cell_type": "markdown",
   "id": "92eaf9da-bebd-4bb8-9476-de91a2a26e1a",
   "metadata": {},
   "source": [
    "Some of the popular languages that Data Scientists use are\n",
    "1. Python\n",
    "2. R\n",
    "3. SQL\n",
    "4. C++\n",
    "5. Java etc..."
   ]
  },
  {
   "cell_type": "markdown",
   "id": "bc38e9e0-0982-4a69-a19c-e20fe5c29bf5",
   "metadata": {},
   "source": [
    "Some of the commonly used libraries used by Data Scientists includ3e:\n",
    "1. TensorFlow.\n",
    "2. NumPy.\n",
    "3. SciPy.\n",
    "4. Pandas.\n",
    "5. Matplotlib.\n",
    "6. PyTorch.\n",
    "7. SciKit-Learn.\n"
   ]
  },
  {
   "cell_type": "markdown",
   "id": "2d2bc2ad-01a7-429b-bbcb-cb5af50fdba4",
   "metadata": {},
   "source": [
    "|Data Science Tools|\n",
    "|---|\n",
    "|SAS|\n",
    "|Apache Hadoop|\n",
    "|TensorFlow|"
   ]
  },
  {
   "cell_type": "markdown",
   "id": "2b3f5b4e-98cb-42c5-81ea-9bacebea724f",
   "metadata": {},
   "source": [
    "### below are a few examples of evaluating arithmatic expressions in python"
   ]
  },
  {
   "cell_type": "code",
   "execution_count": 1,
   "id": "8a3023f4-4fbd-49e5-b54f-f473049408e4",
   "metadata": {},
   "outputs": [
    {
     "data": {
      "text/plain": [
       "17"
      ]
     },
     "execution_count": 1,
     "metadata": {},
     "output_type": "execute_result"
    }
   ],
   "source": [
    "#this is a common arithmetic example to multiply and then add integers\n",
    "(3*4)+5"
   ]
  },
  {
   "cell_type": "code",
   "execution_count": 2,
   "id": "3f4b79d4-2036-4b1d-befb-567e92060051",
   "metadata": {},
   "outputs": [
    {
     "data": {
      "text/plain": [
       "5.0"
      ]
     },
     "execution_count": 2,
     "metadata": {},
     "output_type": "execute_result"
    }
   ],
   "source": [
    "# this will convert 300 minutes to hours by dividing by 60\n",
    "300/60"
   ]
  },
  {
   "cell_type": "markdown",
   "id": "65ae7878-0d86-4beb-987d-f4753879df0b",
   "metadata": {},
   "source": [
    "__Objective__\n",
    "* List popular languages for Data Science \n",
    "* List Popular libraries for Data Science\n",
    "* List of Well known Data Science Tools\n",
    "* How to Provide comments in the cell\n",
    "               "
   ]
  },
  {
   "cell_type": "markdown",
   "id": "97a12245-2a30-4950-b567-b8f3be90f661",
   "metadata": {},
   "source": [
    "### Authors Name"
   ]
  },
  {
   "cell_type": "markdown",
   "id": "d7d83b19-1d45-4d8d-940f-57a9883c525d",
   "metadata": {},
   "source": [
    "Shruti Waghmare"
   ]
  },
  {
   "cell_type": "code",
   "execution_count": null,
   "id": "744046ea-1248-43fe-b3ca-55a1be37ef25",
   "metadata": {},
   "outputs": [],
   "source": []
  }
 ],
 "metadata": {
  "kernelspec": {
   "display_name": "Python 3 (ipykernel)",
   "language": "python",
   "name": "python3"
  },
  "language_info": {
   "codemirror_mode": {
    "name": "ipython",
    "version": 3
   },
   "file_extension": ".py",
   "mimetype": "text/x-python",
   "name": "python",
   "nbconvert_exporter": "python",
   "pygments_lexer": "ipython3",
   "version": "3.13.5"
  }
 },
 "nbformat": 4,
 "nbformat_minor": 5
}
